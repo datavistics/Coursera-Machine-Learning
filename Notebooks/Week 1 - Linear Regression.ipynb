{
 "cells": [
  {
   "cell_type": "markdown",
   "metadata": {
    "collapsed": true
   },
   "source": [
    "# Linear Regression in Python\n",
    "The following notebooks are an export of Andrew Ng's Machine Learning class from [Coursera](https://www.coursera.org): from Octave/Matlab code to python! I want to get more familiar with the great [sklearn](scikit-learn.org/) and with the rest of python's capabilities. I may skip some of the exercises as I see fit as this is a learning tool."
   ]
  },
  {
   "cell_type": "markdown",
   "metadata": {},
   "source": [
    "The first week is on Linear Regression and implementing Gradient Descent and normalization. Lets dive in!"
   ]
  },
  {
   "cell_type": "code",
   "execution_count": 1,
   "metadata": {
    "collapsed": true
   },
   "outputs": [],
   "source": [
    "import pandas as pd\n",
    "import sklearn.preprocessing, sklearn.decomposition, \\\n",
    "    sklearn.linear_model, sklearn.pipeline, sklearn.metrics\n",
    "from sklearn.feature_extraction.text import CountVectorizer\n",
    "from sklearn_pandas import DataFrameMapper, cross_val_score\n",
    "from pathlib import Path, PureWindowsPath\n",
    "import os, sys\n",
    "import numpy as np\n",
    "\n",
    "p = Path(os.getcwd()).parents[0]\n",
    "ex1_path = Path(f'{p}\\Octave Code\\ex1')                \n",
    "assert ex1_path.exists(), \"Check path to data\"\n",
    "os.chdir(os.path.abspath(ex1_path))\n",
    "\n",
    "df = pd.read_csv(Path(r'ex1data1.txt'))\n",
    "df.columns = ['X', 'y']"
   ]
  },
  {
   "cell_type": "markdown",
   "metadata": {},
   "source": [
    "Its always important to check what your data types are and if you have any null values."
   ]
  },
  {
   "cell_type": "code",
   "execution_count": 2,
   "metadata": {},
   "outputs": [
    {
     "name": "stdout",
     "output_type": "stream",
     "text": [
      "<class 'pandas.core.frame.DataFrame'>\n",
      "RangeIndex: 96 entries, 0 to 95\n",
      "Data columns (total 2 columns):\n",
      "X    96 non-null float64\n",
      "y    96 non-null float64\n",
      "dtypes: float64(2)\n",
      "memory usage: 1.6 KB\n"
     ]
    }
   ],
   "source": [
    "df.info()"
   ]
  },
  {
   "cell_type": "markdown",
   "metadata": {},
   "source": [
    "Now that we have our data imported let's perform some Exploritory Data Analysis (EDA) to see what is going on!"
   ]
  },
  {
   "cell_type": "code",
   "execution_count": 3,
   "metadata": {},
   "outputs": [
    {
     "data": {
      "image/png": "[encoded data removed]",
      "text/plain": [
       "<matplotlib.figure.Figure at 0x2424557b630>"
      ]
     },
     "metadata": {},
     "output_type": "display_data"
    }
   ],
   "source": [
    "import matplotlib.pyplot as plt\n",
    "\n",
    "df.plot(kind='scatter', x='X', y='y')\n",
    "plt.show()"
   ]
  },
  {
   "cell_type": "markdown",
   "metadata": {},
   "source": [
    "We can see that there is a general positive correlation between the input *X* and the output *y*. I found out while making this that there are some [issues](https://stackoverflow.com/questions/35723472/how-to-use-sklearn-fit-transform-with-pandas-and-return-dataframe-instead-of-num) in using Pandas and SKlearn. I find this surprising since they are both so big for Data Science... Oh well. There is a good solution ([sklearn-pandas](https://github.com/pandas-dev/sklearn-pandas)) which might be overkill for this small situation, but is good practice for more complex situations.\n",
    "\n",
    "It encourages the good practice of using [pipelines](http://scikit-learn.org/stable/modules/generated/sklearn.pipeline.Pipeline.html) which I am a huge fan of after finishing my latest [DataCamp](https://www.datacamp.com/home) course, which was in Supervised Learning.\n",
    "\n",
    "Here in this next block I will create my regression:\n",
    "1. I use a DataFrame mapper which allows easy use of Pandas and SKlearn together. \n",
    "2. This data was already in float format so I don't have to worry about transforming it. \n",
    "3. Then I will add the mapper and regression to the pipeline\n",
    "4. Lastly I fit and predict on the data."
   ]
  },
  {
   "cell_type": "code",
   "execution_count": 4,
   "metadata": {
    "collapsed": true
   },
   "outputs": [],
   "source": [
    "mapper = DataFrameMapper([\n",
    "    ('X', None)\n",
    "])\n",
    "\n",
    "pl = sklearn.pipeline.Pipeline ([\n",
    "    ('featurize', mapper),\n",
    "    ('lm', sklearn.linear_model.LinearRegression())\n",
    "])\n",
    "\n",
    "pl.fit(df, df.y)\n",
    "y_pred = pl.predict(df)"
   ]
  },
  {
   "cell_type": "code",
   "execution_count": 5,
   "metadata": {},
   "outputs": [
    {
     "data": {
      "text/plain": [
       "array([ 42469.94238279,  84944.09626958])"
      ]
     },
     "execution_count": 5,
     "metadata": {},
     "output_type": "execute_result"
    }
   ],
   "source": [
    "# Get prediction Data\n",
    "# Note that pred MUST have a column 'X'\n",
    "pred = pd.DataFrame({'X':[35000, 70000]})\n",
    "pl.predict(pred)"
   ]
  },
  {
   "cell_type": "markdown",
   "metadata": {},
   "source": [
    "Finally we can plot our results and show the generated regression line!"
   ]
  },
  {
   "cell_type": "code",
   "execution_count": 6,
   "metadata": {},
   "outputs": [
    {
     "data": {
      "image/png": "[encoded data removed]",
      "text/plain": [
       "<matplotlib.figure.Figure at 0x24245cdfef0>"
      ]
     },
     "metadata": {},
     "output_type": "display_data"
    }
   ],
   "source": [
    "# Get indices for max and min points\n",
    "ind_max = df.X.idxmax()\n",
    "ind_min = df.X.idxmin()\n",
    "\n",
    "# Plot Data with regression line\n",
    "plt.plot([df.X.iloc[ind_max],df.X.iloc[ind_min]], [y_pred[ind_max], y_pred[ind_min]], c=\"red\")\n",
    "plt.scatter(df.X, df.y)\n",
    "plt.show()"
   ]
  },
  {
   "cell_type": "markdown",
   "metadata": {},
   "source": [
    "In just a few easy steps we have created a basic regression line. There are faster ways within python, but we took a route that is very extensible. We can use much more advanced algorithms just by altering our pipeline."
   ]
  }
 ],
 "metadata": {
  "kernelspec": {
   "display_name": "Python 3",
   "language": "python",
   "name": "python3"
  },
  "language_info": {
   "codemirror_mode": {
    "name": "ipython",
    "version": 3
   },
   "file_extension": ".py",
   "mimetype": "text/x-python",
   "name": "python",
   "nbconvert_exporter": "python",
   "pygments_lexer": "ipython3",
   "version": "3.6.1"
  },
  "varInspector": {
   "cols": {
    "lenName": 16,
    "lenType": 16,
    "lenVar": 40
   },
   "kernels_config": {
    "python": {
     "delete_cmd_postfix": "",
     "delete_cmd_prefix": "del ",
     "library": "var_list.py",
     "varRefreshCmd": "print(var_dic_list())"
    },
    "r": {
     "delete_cmd_postfix": ") ",
     "delete_cmd_prefix": "rm(",
     "library": "var_list.r",
     "varRefreshCmd": "cat(var_dic_list()) "
    }
   },
   "position": {
    "height": "398px",
    "left": "908px",
    "right": "20px",
    "top": "120px",
    "width": "350px"
   },
   "types_to_exclude": [
    "module",
    "function",
    "builtin_function_or_method",
    "instance",
    "_Feature"
   ],
   "window_display": false
  }
 },
 "nbformat": 4,
 "nbformat_minor": 1
}
